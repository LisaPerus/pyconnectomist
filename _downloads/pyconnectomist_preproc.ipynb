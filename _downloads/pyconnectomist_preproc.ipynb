{
  "nbformat_minor": 0, 
  "nbformat": 4, 
  "cells": [
    {
      "execution_count": null, 
      "cell_type": "code", 
      "source": [
        "%matplotlib inline"
      ], 
      "outputs": [], 
      "metadata": {
        "collapsed": false
      }
    }, 
    {
      "source": [
        "\nPyconnectomist Preproc\n======================\n\nExample automatically generated from package script.\n\n"
      ], 
      "cell_type": "markdown", 
      "metadata": {}
    }, 
    {
      "execution_count": null, 
      "cell_type": "code", 
      "source": [
        "# System import\nfrom __future__ import print_function\nimport argparse\nimport os\nimport shutil\nfrom datetime import datetime\nimport json\nfrom pprint import pprint\n\n# Bredala import\ntry:\n    import bredala\n    bredala.USE_PROFILER = False\n    bredala.register(\"pyconnectomist.preproc\",\n                     names=[\"complete_preprocessing\"])\n    bredala.register(\"pyconnectomist.preproc.qspace\",\n                     names=[\"data_import_and_qspace_sampling\"])\n    bredala.register(\"pyconnectomist.preproc.mask\",\n                     names=[\"rough_mask_extraction\"])\n    bredala.register(\"pyconnectomist.preproc.outliers\",\n                     names=[\"outlying_slice_detection\"])\n    bredala.register(\"pyconnectomist.preproc.susceptibility\",\n                     names=[\"susceptibility_correction\"])\n    bredala.register(\"pyconnectomist.preproc.registration\",\n                     names=[\"dwi_to_anatomy\"])\n    bredala.register(\"pyconnectomist.preproc.eddy\",\n                     names=[\"eddy_and_motion_correction\",\n                            \"export_eddy_motion_results_to_nifti\"])\n    bredala.register(\"pyconnectomist.preproc.qc\",\n                     names=[\"qc_reporting\"])\n    bredala.register(\"pyconnectomist.wrappers\",\n                     names=[\"ConnectomistWrapper.__call__\"])\n    bredala.register(\"pyconnectomist.utils.pdftools\",\n                     names=[\"generate_pdf\"])\nexcept:\n    pass\n\n# Pyconnectomist import\nimport pyconnectomist\nfrom pyconnectomist import __version__ as version\nfrom pyconnectomist.preproc import complete_preprocessing\nfrom pyconnectomist.preproc import STEPS\nfrom pyconnectomist.manufacturers import MANUFACTURERS\nfrom pyconnectomist.wrappers import ConnectomistWrapper\nfrom pyconnectomist import DEFAULT_CONNECTOMIST_PATH\nfrom pyconnectomist.utils.pdftools import generate_pdf\nfrom pyconnectomist.info import PTK_RELEASE\n\n\n# Parameters to keep trace\n__hopla__ = [\"runtime\", \"inputs\", \"outputs\"]\n\n# Script documentation\ndoc = \"\"\"\nConnectomist preproc\n~~~~~~~~~~~~~~~~~~~~\n\nFunction that runs all the Connectomist preprocessing tabs.\nGenerates results in '<outdir>/<subjectid>/proeproc'.\n\nSteps:\n\n1- Create the preprocessing output directory if not existing.\n2- Import files to Connectomist and choose q-space model.\n3- Registration t1 - dwi\n4- Create a brain mask.\n5- Detect and correct outlying diffusion slices.\n6- Susceptibility correction.\n7- Eddy current and motion correction.\n8- QC reporting.\n9- Export result as a Nifti with a .bval and a .bvec.\n10- Export outliers.\n11- Delete intermediate files and directories if requested.\n12- Generate QC reporting.\n\nCommand:\n\npython $HOME/git/pyconnectomist/pyconnectomist/scripts/pyconnectomist_preproc \\\n    -v 2 \\\n    -o /tmp/pyconnectomist \\\n    -s jp090065 \\\n    -P myproject \\\n    -T t0 \\\n    -i /neurospin/senior/nsap/data/V4/nifti/jp090065/000007_HARDI1/HARDI1.nii.gz \\\n    -r /neurospin/senior/nsap/data/V4/nifti/jp090065/000007_HARDI1/HARDI1.bvec \\\n    -b /neurospin/senior/nsap/data/V4/nifti/jp090065/000007_HARDI1/HARDI1.bval \\\n    -m Siemens \\\n    -t 2.46 \\\n    -f 0.75 \\\n    -a 2 \\\n    -u /neurospin/senior/nsap/data/V4/nifti/jp090065/000019_B0MAP/B0MAP.nii.gz \\\n    -p /neurospin/senior/nsap/data/V4/nifti/jp090065/000020_B0MAP/B0MAP.nii.gz \\\n    -x \\\n    -q 0.75 \\\n    -l 3.0 \\\n    -g /neurospin/senior/nsap/data/V4/morphologist \\\n    -e\n\"\"\"\n\n\ndef is_file(filearg):\n    \"\"\" Type for argparse - checks that file exists but does not open.\n    \"\"\"\n    if not os.path.isfile(filearg):\n        raise argparse.ArgumentError(\n            \"The file '{0}' does not exist!\".format(filearg))\n    return filearg\n\n\ndef is_directory(dirarg):\n    \"\"\" Type for argparse - checks that directory exists.\n    \"\"\"\n    if not os.path.isdir(dirarg):\n        raise argparse.ArgumentError(\n            \"The directory '{0}' does not exist!\".format(dirarg))\n    return dirarg\n\n\nparser = argparse.ArgumentParser(description=doc,\n                                 formatter_class=argparse.RawTextHelpFormatter)\nparser.add_argument(\n    \"-v\", \"--verbose\", dest=\"verbose\", type=int, choices=[0, 1, 2], default=0,\n    help=\"increase the verbosity level: 0 silent, [1, 2] verbose.\")\nparser.add_argument(\n    \"-e\", \"--erase\", dest=\"erase\", action=\"store_true\",\n    help=\"if activated, clean the subject folder if already created.\")\nparser.add_argument(\n    \"-C\", \"--clientname\", dest=\"clientname\", default=\"NC\",\n    help=\"the client name.\")\nparser.add_argument(\n    \"-P\", \"--projectname\", dest=\"projectname\", required=True,\n    help=\"the project name.\")\nparser.add_argument(\n    \"-T\", \"--timestep\", dest=\"timestep\", required=True,\n    help=\"the time step assocaited to the diffusion dataset.\")\nparser.add_argument(\n    \"-c\", \"--connectomistconfig\", dest=\"connectomistconfig\", metavar=\"PATH\",\n    help=\"the path to the Connectomist configuration file.\", type=is_file)\nparser.add_argument(\n    \"-o\", \"--outdir\", dest=\"outdir\", metavar=\"PATH\",\n    help=\"the Connectomist preprocessing home directory.\", type=is_directory)\nparser.add_argument(\n    \"-s\", \"--subjectid\", dest=\"subjectid\", required=True,\n    help=\"the subject identifier.\")\nparser.add_argument(\n    \"-i\", \"--dwifiles\", dest=\"dwifiles\", metavar=\"FILE\", nargs=\"+\",\n    help=\"the subject diffusion images to be processed.\", type=is_file)\nparser.add_argument(\n    \"-r\", \"--bvecfiles\", dest=\"bvecfiles\", metavar=\"FILE\", nargs=\"+\",\n    help=\"the subject diffusion b-vectors to be processed.\", type=is_file)\nparser.add_argument(\n    \"-b\", \"--bvalfiles\", dest=\"bvalfiles\", metavar=\"FILE\", nargs=\"+\",\n    help=\"the subject diffusion b-values to be processed.\", type=is_file)\nparser.add_argument(\n    \"-m\", \"--manufacturer\", dest=\"manufacturer\", choices=MANUFACTURERS.keys(),\n    help=\"the MRI scanner manufacturer.\")\nparser.add_argument(\n    \"-t\", \"--delta_te\", dest=\"delta_te\", type=float, required=True,\n    help=(\"the difference in msec between the 2 echoes of the B0 magnitude \"\n          \"map.\"))\nparser.add_argument(\n    \"-f\", \"--partial_fourier_factor\", dest=\"partial_fourier_factor\",\n    type=float, required=True,\n    help=\"the percentage of k-space plane acquired (]0;1]).\")\nparser.add_argument(\n    \"-a\", \"--parallel_acceleration_factor\",\n    dest=\"parallel_acceleration_factor\", type=float, required=True,\n    help=\"the number of parallel acquisition in the k-space plane.\")\nparser.add_argument(\n    \"-u\", \"--b0_magnitude\", dest=\"b0_magnitude\", metavar=\"FILE\",\n    help=\"the path to the B0 magnitude map (also contains phase for GE).\",\n    type=is_file)\nparser.add_argument(\n    \"-p\", \"--b0_phase\", dest=\"b0_phase\", metavar=\"FILE\",\n    help=\"the path to the B0 phase map (not for GE).\", type=is_file)\nparser.add_argument(\n    \"-ph\", \"--phase_axis\", dest=\"phase_axis\", choices=[\"x\", \"y\", \"z\"],\n     default=\"y\", help=\"the acquistion phase axis.\")\nparser.add_argument(\n    \"-j\", \"--slice_axis\", dest=\"slice_axis\", choices=[\"x\", \"y\", \"z\"],\n    default=\"z\", help=\"the acquistion slice axis.\")\nparser.add_argument(\n    \"-ix\", \"--flipx\", dest=\"flipx\", action=\"store_true\",\n    help=\"if activated, invert the x-axis in the data.\")\nparser.add_argument(\n    \"-iy\", \"--flipy\", dest=\"flipy\", action=\"store_true\",\n    help=\"if activated, invert the y-axis in the data.\")\nparser.add_argument(\n    \"-iz\", \"--flipz\", dest=\"flipz\", action=\"store_true\",\n    help=\"if activated, invert the z-axis in the data.\")\nparser.add_argument(\n    \"-x\", \"--invertx\", dest=\"invertx\", action=\"store_true\",\n    help=\"if activated, invert the x-axis in diffusion model.\")\nparser.add_argument(\n    \"-y\", \"--inverty\", dest=\"inverty\", action=\"store_true\",\n    help=\"if activated, invert the y-axis in diffusion model.\")\nparser.add_argument(\n    \"-z\", \"--invertz\", dest=\"invertz\", action=\"store_true\",\n    help=\"if activated, invert the z-axis in diffusion model.\")\nparser.add_argument(\n    \"-n\", \"--negative_sign\", dest=\"negative_sign\",  action=\"store_true\",\n    help=(\"if activated, invert the direction of unwarping in the \"\n          \"suceptibility distortion correction.\"))\nparser.add_argument(\n    \"-q\", \"--echo_spacing\", dest=\"echo_spacing\", type=float, required=False,\n    help=(\"the acquisition time in msec between 2 centers of 2 \"\n          \"consecutively acquired lines in k-space (not for Philips).\"))\nparser.add_argument(\n    \"-k\", \"--epi_factor\", dest=\"epi_factor\", type=int, required=False,\n    help=\"the number of echoes after one RF pulse, i.e. echo train length.\")\nparser.add_argument(\n    \"-l\", \"--b0_field\", dest=\"b0_field\", type=float, default=3.0,\n    help=\"the B0 field intensity (Philips only).\")\nparser.add_argument(\n    \"-w\", \"--water_fat_shift\", dest=\"water_fat_shift\", type=float,\n    default=4.68, help=\"Philips only, the spins frequency offsets.\")\nparser.add_argument(\n    \"-Z\", \"--t1zcropping\", dest=\"t1zcropping\", type=int,\n    default=0, help=(\"Crop the t1 image in the z direction in order to remove \"\n                     \"the neck.\"))\nparser.add_argument(\n    \"-L\", \"--levelcount\", dest=\"level_count\", type=int,\n    default=32, help=\"The number of bins in the histogram.\")\nparser.add_argument(\n    \"-K\", \"--lowertheshold\", dest=\"lower_theshold\", type=float,\n    default=0., help=(\"Remove noise in the image by applying this lower \"\n                     \"theshold.\"))\nparser.add_argument(\n    \"-S\", \"--nosmoothing\", dest=\"no_smoothing\", action=\"store_true\",\n    help=(\"Do not smooth the image before performing the histogram analysis.\"))\nparser.add_argument(\n    \"-M\", \"--similarity\", dest=\"similarity\", choices=[\"mi\", \"norm_mi\"],\n    help=\"the eddy + motion correction similarity measure.\")\nparser.add_argument(\n    \"-d\", \"--delete_steps\", dest=\"delete_steps\", action=\"store_true\",\n    help=(\"if activated, remove all intermediate files and directories at \"\n          \"the end.\"))\nparser.add_argument(\n    \"-g\", \"--morphologist_dir\", dest=\"morphologist_dir\", required=True,\n    metavar=\"PATH\", type=is_directory,\n    help=\"the path to the morphologist processings home directory.\")\nparser.add_argument(\n    \"-Q\", \"--already_corrected\", dest=\"already_corrected\", action=\"store_true\",\n    help=(\"if activated, only the first three step are computed in order to \"\n          \"facilitate the modeling, tractography, bundeling steps.\"))\nparser.add_argument(\n    \"-R\", \"--report_only\", dest=\"report_only\", action=\"store_true\",\n    help=(\"if activated, only the report will be generated. Might be \"\n          \"usefull when manual operations must be performed.\"))\nparser.add_argument(\n    \"-O\", \"--preprocdir\", dest=\"preprocdir\", metavar=\"PATH\",\n    help=(\"the path to the Connectomist diffusion preprocessings. If not \"\n          \"specified generate data in '<outdir>/<subjectid>/preproc'.\"),\n    type=is_directory)       \nargs = parser.parse_args()"
      ], 
      "outputs": [], 
      "metadata": {
        "collapsed": false
      }
    }, 
    {
      "source": [
        "First check if the Connectomist subject directory exists on the file system,\nand clean it if requested.\n\n"
      ], 
      "cell_type": "markdown", 
      "metadata": {}
    }, 
    {
      "execution_count": null, 
      "cell_type": "code", 
      "source": [
        "tool = \"pyconnectomist_preproc\"\ntimestamp = datetime.now().isoformat()\ntool_version = version\nconnectomist_config = args.connectomistconfig or DEFAULT_CONNECTOMIST_PATH\nconnectomist_version = ConnectomistWrapper._connectomist_version_check(\n    connectomist_config)\nruntime = dict([(name, locals()[name])\n               for name in (\"connectomist_config\", \"tool\", \"tool_version\",\n                            \"connectomist_version\", \"timestamp\")])\nif args.verbose > 0:\n    print(\"[info] Start Connectomist preproc...\")\n    print(\"[info] Directory: {0}.\".format(args.outdir))\n    print(\"[info] Subject: {0}.\".format(args.subjectid))\n    print(\"[info] DWIS: {0}.\".format(args.dwifiles))\n    print(\"[info] BVECS: {0}.\".format(args.bvecfiles))\n    print(\"[info] BVALS: {0}.\".format(args.bvalfiles))\n    print(\"[info] Magnitude: {0}.\".format(args.b0_magnitude))\n    print(\"[info] Phase: {0}.\".format(args.b0_phase))\noutdir = args.outdir\nsubjectid = args.subjectid\npreprocdir = args.preprocdir\nclientname = args.clientname\nprojectname = args.projectname\ntimestep = args.timestep\nif preprocdir is None:\n    if outdir is None:\n        raise ValueError(\"Trying to generate output directory. You need to \"\n                         \"specify the -o, --outdir command line option.\")\n    preprocdir = os.path.join(args.outdir, subjectid, \"preproc\")\ndwis = args.dwifiles\nbvecs = args.bvecfiles\nbvals = args.bvalfiles\nmanufacturer = args.manufacturer\ndelta_te = args.delta_te\npartial_fourier_factor = args.partial_fourier_factor\nparallel_acceleration_factor = args.parallel_acceleration_factor\nb0_magnitude = args.b0_magnitude\nb0_phase = args.b0_phase\nphase_axis = args.phase_axis\nslice_axis = args.slice_axis\nflipx = args.flipx\nflipy = args.flipy\nflipz = args.flipz\ninvertx = args.invertx\ninverty = args.inverty\ninvertz = args.invertz\nnegative_sign = args.negative_sign\necho_spacing = args.echo_spacing\nepi_factor = args.epi_factor\nb0_field = args.b0_field\nwater_fat_shift = args.water_fat_shift\nt1zcropping = args.t1zcropping\nlevel_count = args.level_count\napply_smoothing = not args.no_smoothing\nlower_theshold = args.lower_theshold\nsimilarity = args.similarity\ndelete_steps = args.delete_steps\nmorphologist_dir = args.morphologist_dir\nalready_corrected = args.already_corrected\nreport_only = args.report_only\ninputs = dict([(name, locals()[name])\n               for name in (\"outdir\", \"subjectid\", \"preprocdir\", \"dwis\",\n                            \"bvecs\", \"bvals\", \"manufacturer\", \"delta_te\",\n                            \"partial_fourier_factor\", \"negative_sign\",\n                            \"parallel_acceleration_factor\", \"b0_phase\",\n                            \"b0_magnitude\", \"invertx\", \"inverty\", \"invertz\", \n                            \"echo_spacing\", \"epi_factor\", \"b0_field\",\n                            \"water_fat_shift\", \"delete_steps\",\n                            \"morphologist_dir\", \"projectname\", \"timestep\",\n                            \"t1zcropping\", \"level_count\", \"apply_smoothing\",\n                            \"lower_theshold\", \"clientname\",\n                            \"already_corrected\", \"report_only\",\n                            \"flipx\", \"flipy\", \"flipz\", \"similarity\")])\noutputs = None\nif not os.path.isdir(preprocdir):\n    os.makedirs(preprocdir)\nelif args.erase and os.path.isdir(preprocdir):\n    shutil.rmtree(preprocdir)\n    os.mkdir(preprocdir)"
      ], 
      "outputs": [], 
      "metadata": {
        "collapsed": false
      }
    }, 
    {
      "source": [
        "Connectomist preproc: all steps\n\n"
      ], 
      "cell_type": "markdown", 
      "metadata": {}
    }, 
    {
      "execution_count": null, 
      "cell_type": "code", 
      "source": [
        "if not report_only:\n    returned_values = complete_preprocessing(\n        preprocdir,\n        subjectid,\n        projectname,\n        timestep,\n        dwis,\n        bvals,\n        bvecs,\n        manufacturer,\n        delta_te,\n        partial_fourier_factor,\n        parallel_acceleration_factor,\n        b0_magnitude,\n        b0_phase=b0_phase,\n        phase_axis=phase_axis,\n        slice_axis=slice_axis,\n        flipX=flipx,\n        flipY=flipy,\n        flipZ=flipz,\n        invertX=invertx,\n        invertY=inverty,\n        invertZ=invertz,\n        negative_sign=negative_sign,\n        echo_spacing=echo_spacing,\n        EPI_factor=epi_factor,\n        b0_field=b0_field,\n        water_fat_shift=water_fat_shift,\n        t1_foot_zcropping=t1zcropping,\n        level_count=level_count,\n        lower_theshold=lower_theshold,\n        apply_smoothing=apply_smoothing,\n        similarity_measure=similarity,\n        delete_steps=delete_steps,\n        morphologist_dir=morphologist_dir,\n        already_corrected=already_corrected,\n        path_connectomist=connectomist_config)\n    preproc_dwi, preproc_bval, preproc_bvec, preproc_outliers = returned_values\n    if args.verbose > 1:\n        print(\"[result] In folder: {0}.\".format(preprocdir))"
      ], 
      "outputs": [], 
      "metadata": {
        "collapsed": false
      }
    }, 
    {
      "source": [
        "Generate QC reporting\n\n"
      ], 
      "cell_type": "markdown", 
      "metadata": {}
    }, 
    {
      "execution_count": null, 
      "cell_type": "code", 
      "source": [
        "reportfile = os.path.join(preprocdir, \"QcFast_{0}_{1}_{2}.pdf\".format(\n    projectname, subjectid, timestep))\ntic = datetime.now()\ngenerate_pdf(\n    datapath=os.path.join(preprocdir, STEPS[6]),\n    struct_file=os.path.join(\n        os.path.abspath(os.path.dirname(pyconnectomist.__file__)), \"utils\",\n        \"resources\", \"pyconnectomist_qcfast.json\"),\n    author=\"NeuroSpin\",\n    client=clientname,\n    poweredby=\"Connectomist-{0}\".format(PTK_RELEASE),\n    project=projectname,\n    timepoint=timestep,\n    subject=subjectid,\n    date=\"{0}-{1}-{2}\".format(tic.year, tic.month, tic.day),\n    title=\"DWI QC Reporting\",\n    filename=reportfile,\n    pagesize=None,\n    left_margin=10,\n    right_margin=10,\n    top_margin=20,\n    bottom_margin=20,\n    show_boundary=False,\n    verbose=0)\nif args.verbose > 1:\n    print(\"[result] In file: {0}.\".format(reportfile))"
      ], 
      "outputs": [], 
      "metadata": {
        "collapsed": false
      }
    }, 
    {
      "source": [
        "Update the outputs and save them and the inputs in a 'logs' directory.\n\n"
      ], 
      "cell_type": "markdown", 
      "metadata": {}
    }, 
    {
      "execution_count": null, 
      "cell_type": "code", 
      "source": [
        "if not report_only:\n    logdir = os.path.join(preprocdir, \"logs\")\n    if not os.path.isdir(logdir):\n        os.mkdir(logdir)\n    outputs = dict([(name, locals()[name])\n                   for name in (\"reportfile\", \"preproc_dwi\", \"preproc_bval\",\n                                \"preproc_bvec\", \"preproc_outliers\")])\n    for name, final_struct in [(\"inputs\", inputs), (\"outputs\", outputs),\n                               (\"runtime\", runtime)]:\n        log_file = os.path.join(logdir, \"{0}.json\".format(name))\n        with open(log_file, \"wt\") as open_file:\n            json.dump(final_struct, open_file, sort_keys=True,\n                      check_circular=True, indent=4)\n    if args.verbose > 1:\n        print(\"[final]\")\n        pprint(outputs)"
      ], 
      "outputs": [], 
      "metadata": {
        "collapsed": false
      }
    }
  ], 
  "metadata": {
    "kernelspec": {
      "display_name": "Python 2", 
      "name": "python2", 
      "language": "python"
    }, 
    "language_info": {
      "mimetype": "text/x-python", 
      "nbconvert_exporter": "python", 
      "name": "python", 
      "file_extension": ".py", 
      "version": "2.7.12", 
      "pygments_lexer": "ipython2", 
      "codemirror_mode": {
        "version": 2, 
        "name": "ipython"
      }
    }
  }
}