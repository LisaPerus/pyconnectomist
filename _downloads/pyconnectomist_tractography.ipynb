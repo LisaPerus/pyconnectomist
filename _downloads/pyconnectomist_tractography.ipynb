{
  "nbformat_minor": 0, 
  "nbformat": 4, 
  "cells": [
    {
      "execution_count": null, 
      "cell_type": "code", 
      "source": [
        "%matplotlib inline"
      ], 
      "outputs": [], 
      "metadata": {
        "collapsed": false
      }
    }, 
    {
      "source": [
        "\nPyconnectomist Tractography\n===========================\n\nExample automatically generated from package script.\n\n"
      ], 
      "cell_type": "markdown", 
      "metadata": {}
    }, 
    {
      "execution_count": null, 
      "cell_type": "code", 
      "source": [
        "# System import\nfrom __future__ import print_function\nimport argparse\nimport os\nimport shutil\nfrom datetime import datetime\nfrom pprint import pprint\nimport json\n\n# Bredala import\ntry:\n    import bredala\n    bredala.USE_PROFILER = False\n    bredala.register(\"pyconnectomist.tractography\",\n                     names=[\"complete_tractography\"])\n    bredala.register(\"pyconnectomist.tractography.model\",\n                     names=[\"dwi_local_modeling\", \"export_scalars_to_nifti\"])\n    bredala.register(\"pyconnectomist.tractography.mask\",\n                     names=[\"tractography_mask\", \"export_mask_to_nifti\"])\n    bredala.register(\"pyconnectomist.tractography.tractography\",\n                     names=[\"tractography\"])\n    bredala.register(\"pyconnectomist.clustering.labeling\",\n                     names=[\"fast_bundle_labeling\", \"export_bundles_to_trk\"])\n    bredala.register(\"pyconnectomist.wrappers\",\n                     names=[\"ConnectomistWrapper.__call__\"])\nexcept:\n    pass\n\n# Clindmri import\nfrom pyconnectomist import __version__ as version\nfrom pyconnectomist.tractography import complete_tractography\nfrom pyconnectomist.wrappers import ConnectomistWrapper\nfrom pyconnectomist import DEFAULT_CONNECTOMIST_PATH\n\n\n# Parameters to keep trace\n__hopla__ = [\"runtime\", \"inputs\", \"outputs\"]\n\n# Script documentation\ndoc = \"\"\"\nConnectomist tractography\n~~~~~~~~~~~~~~~~~~~~~~~~~\n\nFunction that runs all the Connectomist tractography tabs.\nGenerates results in '<outdir>/<subjectid>/tract'.\n\nSteps:\n\n1- Create the tractography output directory if not existing.\n2- Detect the Connectomist registration folder.\n3- Detect the Connectomist eddy motion correction folder.\n4- Detect the Connectomist rough mask folder.\n5- Compute the diffusion model.\n6- Create the tractography mask.\n7- The tractography algorithm.\n8- Fast bundle labeling.\n9- Export diffusion scalars.\n10- Export tractography mask.\n11- Export bundels.\n\nCommand:\n\npython $HOME/git/pyconnectomist/pyconnectomist/scripts/pyconnectomist_tractography \\\n    -v 2 \\\n    -o /tmp/pyconnectomist \\\n    -g /neurospin/senior/nsap/data/V4/morphologist \\\n    -s jp090065 \\\n    -m aqbi \\\n    -r 4 \\\n    -t streamline_regularize_deterministic \\\n    -i 5. \\\n    -a 300. \\\n    -d 1 \\\n    -e\n\"\"\"\n\n\ndef is_file(filearg):\n    \"\"\" Type for argparse - checks that file exists but does not open.\n    \"\"\"\n    if not os.path.isfile(filearg):\n        raise argparse.ArgumentError(\n            \"The file '{0}' does not exist!\".format(filearg))\n    return filearg\n\n\ndef is_directory(dirarg):\n    \"\"\" Type for argparse - checks that directory exists.\n    \"\"\"\n    if not os.path.isdir(dirarg):\n        raise argparse.ArgumentError(\n            \"The directory '{0}' does not exist!\".format(dirarg))\n    return dirarg\n\n\nparser = argparse.ArgumentParser(description=doc,\n                                 formatter_class=argparse.RawTextHelpFormatter)\nparser.add_argument(\n    \"-v\", \"--verbose\", dest=\"verbose\", type=int, choices=[0, 1, 2], default=0,\n    help=\"increase the verbosity level: 0 silent, [1, 2] verbose.\")\nparser.add_argument(\n    \"-e\", \"--erase\", dest=\"erase\", action=\"store_true\",\n    help=\"if activated, clean the subject folder if already created.\")\nparser.add_argument(\n    \"-c\", \"--connectomistconfig\", dest=\"connectomistconfig\", metavar=\"PATH\",\n    help=\"the path to the Connectomist configuration file.\", type=is_file)\nparser.add_argument(\n    \"-o\", \"--outdir\", dest=\"outdir\", metavar=\"PATH\",\n    help=\"the Connectomist tractography home directory.\", type=is_directory)\nparser.add_argument(\n    \"-s\", \"--subjectid\", dest=\"subjectid\", required=True,\n    help=\"the subject identifier.\")\nparser.add_argument(\n    \"-p\", \"--preprocdir\", dest=\"preprocdir\", metavar=\"PATH\",\n    help=(\"the path to the Connectomist diffusion preprocessings. If not \"\n          \"specified assume data in '<outdir>/<subjectid>/preproc'.\"),\n    type=is_directory)\nparser.add_argument(\n    \"-m\", \"--model\", dest=\"model\", default=\"aqbi\", choices=[\"aqbi\", \"sdt\"],\n    help=\"the diffusion model.\")\nparser.add_argument(\n    \"-r\", \"--order\", dest=\"order\", default=4, type=int,\n    help=\"the diffusion model order.\")\nparser.add_argument(\n    \"-t\", \"--tracking\", dest=\"tracking\",\n    default=\"streamline_regularize_deterministic\",\n    choices=[\"streamline_regularize_deterministic\", \"streamline_deterministic\",\n             \"streamline_probabilistic\"],\n    help=\"the tractography algorithm.\")\nparser.add_argument(\n    \"-i\", \"--minlength\", dest=\"minlength\", default=5., type=float,\n    help=\"the minimum length of a fiber.\")\nparser.add_argument(\n    \"-a\", \"--maxlength\", dest=\"maxlength\", default=300., type=float,\n    help=\"the maximum length of a fiber.\")\nparser.add_argument(\n    \"-d\", \"--seeds\", dest=\"seeds\", default=8, type=int,\n    help=\"the number of seeds per voxel.\")\nparser.add_argument(\n    \"-g\", \"--morphologistdir\", dest=\"morphologistdir\", required=True,\n    metavar=\"PATH\", type=is_directory,\n    help=\"the path to the morphologist processings home directory.\")\nparser.add_argument(\n    \"-n\", \"--tractdir\", dest=\"tractdir\", metavar=\"PATH\",\n    help=(\"the path to the Connectomist tractography. If not \"\n          \"specified generate data in '<outdir>/<subjectid>/tract'.\"),\n    type=is_directory)\nargs = parser.parse_args()"
      ], 
      "outputs": [], 
      "metadata": {
        "collapsed": false
      }
    }, 
    {
      "source": [
        "First check if the Connectomist subject directory exists on the file system,\nand clean it if requested.\n\n"
      ], 
      "cell_type": "markdown", 
      "metadata": {}
    }, 
    {
      "execution_count": null, 
      "cell_type": "code", 
      "source": [
        "tool = \"pyconnectomist_tractography\"\ntimestamp = datetime.now().isoformat()\ntool_version = version\nconnectomist_config = args.connectomistconfig or DEFAULT_CONNECTOMIST_PATH\nconnectomist_version = ConnectomistWrapper._connectomist_version_check(\n    connectomist_config)\nruntime = dict([(name, locals()[name])\n               for name in (\"connectomist_config\", \"tool\", \"tool_version\",\n                            \"connectomist_version\", \"timestamp\")])\nif args.verbose > 0:\n    print(\"[info] Start Connectomist tractography...\")\n    print(\"[info] Directory: {0}.\".format(args.outdir))\n    print(\"[info] Subject: {0}.\".format(args.subjectid))\n    print(\"[info] Preproc dir: {0}.\".format(args.preprocdir))\n    print(\"[info] Model: {0}.\".format(args.model))\n    print(\"[info] Model order: {0}.\".format(args.order))\n    print(\"[info] Tractography algorithm: {0}.\".format(args.tracking))\n    print(\"[info] Number of seeds: {0}.\".format(args.seeds))\n    print(\"[info] Keeping fibers of length: [{0} - \"\n          \"{1}].\".format(args.minlength, args.maxlength))\noutdir = args.outdir\nsubjectid = args.subjectid\npreprocdir = args.preprocdir\nmorphologistdir = args.morphologistdir\nmodel = args.model\norder = args.order\nmin_fiber_length = args.minlength\nmax_fiber_length = args.maxlength\naperture_angle = 30.\ntracking_type = args.tracking\nvoxel_sampler_point_count = args.seeds\ntractdir = args.tractdir\nif tractdir is None:\n    if outdir is None:\n        raise ValueError(\"Trying to generate output directory. You need to \"\n                         \"specify the -o, --outdir command line option.\")\n    tractdir = os.path.join(outdir, subjectid, \"tract\")\n    if args.verbose > 0:\n        print(\"[info] Generated tractdir dir: {0}.\".format(tractdir))\nif preprocdir is None:\n    preprocdir = os.path.join(args.outdir, subjectid, \"preproc\")\n    if args.verbose > 0:\n        print(\"[info] Generated preproc dir: {0}.\".format(preprocdir))\nif not os.path.isdir(tractdir):\n    os.makedirs(tractdir)\nelif args.erase and os.path.isdir(tractdir):\n    shutil.rmtree(tractdir)\n    os.mkdir(tractdir)\ninputs = [preprocdir]\ninputs = dict([(name, locals()[name])\n               for name in (\"outdir\", \"subjectid\", \"tractdir\", \"preprocdir\",\n                            \"morphologistdir\", \"model\", \"order\", \n                            \"min_fiber_length\", \"max_fiber_length\",\n                            \"aperture_angle\", \"tracking_type\",\n                            \"voxel_sampler_point_count\")])\noutputs = None"
      ], 
      "outputs": [], 
      "metadata": {
        "collapsed": false
      }
    }, 
    {
      "source": [
        "Connectomist tractography: all steps\n\n"
      ], 
      "cell_type": "markdown", 
      "metadata": {}
    }, 
    {
      "execution_count": null, 
      "cell_type": "code", 
      "source": [
        "scalars, mask, bundles = complete_tractography(\n    tractdir,\n    preprocdir,\n    morphologistdir,\n    subjectid,\n    model=model,\n    order=order,\n    aqbi_laplacebeltrami_sharpefactor=0.0,\n    regularization_lccurvefactor=0.006,\n    dti_estimator=\"linear\",\n    constrained_sd=False,\n    sd_kernel_type=\"symmetric_tensor\",\n    sd_kernel_lower_fa=0.65,\n    sd_kernel_upper_fa=0.85,\n    sd_kernel_voxel_count=300,\n    add_cerebelum=True,\n    add_commissures=True,\n    tracking_type=tracking_type,\n    bundlemap=\"aimsbundlemap\",\n    min_fiber_length=min_fiber_length,\n    max_fiber_length=max_fiber_length,\n    aperture_angle=aperture_angle,\n    forward_step=0.2,\n    voxel_sampler_point_count=voxel_sampler_point_count,\n    gibbs_temperature=1.,\n    storing_increment=10,\n    output_orientation_count=500,\n    rgbscale=3.0,\n    model_only=False,\n    path_connectomist=connectomist_config)"
      ], 
      "outputs": [], 
      "metadata": {
        "collapsed": false
      }
    }, 
    {
      "source": [
        "Update the outputs and save them and the inputs in a 'logs' directory.\n\n"
      ], 
      "cell_type": "markdown", 
      "metadata": {}
    }, 
    {
      "execution_count": null, 
      "cell_type": "code", 
      "source": [
        "logdir = os.path.join(tractdir, \"logs\")\nif not os.path.isdir(logdir):\n    os.mkdir(logdir)\noutputs = dict([(name, locals()[name])\n               for name in (\"scalars\", \"mask\", \"bundles\")])\nfor name, final_struct in [(\"inputs\", inputs), (\"outputs\", outputs),\n                           (\"runtime\", runtime)]:\n    log_file = os.path.join(logdir, \"{0}.json\".format(name))\n    with open(log_file, \"wt\") as open_file:\n        json.dump(final_struct, open_file, sort_keys=True, check_circular=True,\n                  indent=4)\nif args.verbose > 1:\n    print(\"[final]\")\n    pprint(outputs)"
      ], 
      "outputs": [], 
      "metadata": {
        "collapsed": false
      }
    }
  ], 
  "metadata": {
    "kernelspec": {
      "display_name": "Python 2", 
      "name": "python2", 
      "language": "python"
    }, 
    "language_info": {
      "mimetype": "text/x-python", 
      "nbconvert_exporter": "python", 
      "name": "python", 
      "file_extension": ".py", 
      "version": "2.7.12", 
      "pygments_lexer": "ipython2", 
      "codemirror_mode": {
        "version": 2, 
        "name": "ipython"
      }
    }
  }
}