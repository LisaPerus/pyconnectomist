{
  "nbformat_minor": 0, 
  "nbformat": 4, 
  "cells": [
    {
      "execution_count": null, 
      "cell_type": "code", 
      "source": [
        "%matplotlib inline"
      ], 
      "outputs": [], 
      "metadata": {
        "collapsed": false
      }
    }, 
    {
      "source": [
        "\nPyconnectomist Dtifit\n=====================\n\nExample automatically generated from package script.\n\n"
      ], 
      "cell_type": "markdown", 
      "metadata": {}
    }, 
    {
      "execution_count": null, 
      "cell_type": "code", 
      "source": [
        "# System import\nfrom __future__ import print_function\nimport argparse\nimport os\nimport shutil\nfrom datetime import datetime\nfrom pprint import pprint\nimport json\n\n# Bredala import\ntry:\n    import bredala\n    bredala.USE_PROFILER = False\n    bredala.register(\"pyconnectomist.tractography\",\n                     names=[\"complete_tractography\"])\n    bredala.register(\"pyconnectomist.tractography.model\",\n                     names=[\"dwi_local_modeling\", \"export_scalars_to_nifti\"])\n    bredala.register(\"pyconnectomist.wrappers\",\n                     names=[\"ConnectomistWrapper.__call__\"])\nexcept:\n    pass\n\n# Clindmri import\nfrom pyconnectomist import __version__ as version\nfrom pyconnectomist.tractography import complete_tractography\nfrom pyconnectomist.wrappers import ConnectomistWrapper\nfrom pyconnectomist import DEFAULT_CONNECTOMIST_PATH\n\n\n# Parameters to keep trace\n__hopla__ = [\"runtime\", \"inputs\", \"outputs\"]\n\n# Script documentation\ndoc = \"\"\"\nConnectomist DTI fit\n~~~~~~~~~~~~~~~~~~~~\n\nFunction that runs all the Connectomist 'Local modeling' tab to estimate a DTI\nmodel from the preprocessed diffusion data.\nGenerates results in '<outdir>/<subjectid>/dtifit'.\n\nSteps:\n\n1- Create the model output directory if not existing.\n2- Detect the Connectomist eddy motion correction folder.\n3- Detect the Connectomist rough mask folder.\n4- Compute the second order tensor diffusion model.\n5 - Export diffusion scalars.\n\nCommand:\n\npython $HOME/git/pyconnectomist/pyconnectomist/scripts/pyconnectomist_dtifit \\\n    -v 2 \\\n    -o /tmp/pyconnectomist \\\n    -g /neurospin/senior/nsap/data/V4/morphologist \\\n    -s jp090065 \\\n    -e\n\"\"\"\n\n\ndef is_file(filearg):\n    \"\"\" Type for argparse - checks that file exists but does not open.\n    \"\"\"\n    if not os.path.isfile(filearg):\n        raise argparse.ArgumentError(\n            \"The file '{0}' does not exist!\".format(filearg))\n    return filearg\n\n\ndef is_directory(dirarg):\n    \"\"\" Type for argparse - checks that directory exists.\n    \"\"\"\n    if not os.path.isdir(dirarg):\n        raise argparse.ArgumentError(\n            \"The directory '{0}' does not exist!\".format(dirarg))\n    return dirarg\n\n\nparser = argparse.ArgumentParser(description=doc,\n                                 formatter_class=argparse.RawTextHelpFormatter)\nparser.add_argument(\n    \"-v\", \"--verbose\", dest=\"verbose\", type=int, choices=[0, 1, 2], default=0,\n    help=\"increase the verbosity level: 0 silent, [1, 2] verbose.\")\nparser.add_argument(\n    \"-e\", \"--erase\", dest=\"erase\", action=\"store_true\",\n    help=\"if activated, clean the subject folder if already created.\")\nparser.add_argument(\n    \"-c\", \"--connectomistconfig\", dest=\"connectomistconfig\", metavar=\"PATH\",\n    help=\"the path to the Connectomist configuration file.\", type=is_file)\nparser.add_argument(\n    \"-o\", \"--outdir\", dest=\"outdir\", metavar=\"PATH\", \n    help=\"the Connectomist diffusion tensor output home directory.\",\n    type=is_directory)\nparser.add_argument(\n    \"-s\", \"--subjectid\", dest=\"subjectid\", required=True,\n    help=\"the subject identifier.\")\nparser.add_argument(\n    \"-p\", \"--preprocdir\", dest=\"preprocdir\", metavar=\"PATH\",\n    help=(\"the path to the Connectomist diffusion preprocessings. If not \"\n          \"specified assume data in '<outdir>/<subjectid>/preproc'.\"),\n    type=is_directory)\nparser.add_argument(\n    \"-d\", \"--dtifitdir\", dest=\"dtifitdir\", metavar=\"PATH\",\n    help=(\"the path to the Connectomist diffusion tensor estimation. If not \"\n          \"specified generate data in '<outdir>/<subjectid>/dtifit'.\"),\n    type=is_directory)\nparser.add_argument(\n    \"-g\", \"--morphologistdir\", dest=\"morphologistdir\", required=True,\n    metavar=\"PATH\", type=is_directory,\n    help=\"the path to the morphologist processings home directory.\")\nargs = parser.parse_args()"
      ], 
      "outputs": [], 
      "metadata": {
        "collapsed": false
      }
    }, 
    {
      "source": [
        "First check if the Connectomist subject directory exists on the file system,\nand clean it if requested.\n\n"
      ], 
      "cell_type": "markdown", 
      "metadata": {}
    }, 
    {
      "execution_count": null, 
      "cell_type": "code", 
      "source": [
        "tool = \"pyconnectomist_dtifit\"\ntimestamp = datetime.now().isoformat()\ntool_version = version\nconnectomist_config = args.connectomistconfig or DEFAULT_CONNECTOMIST_PATH\nconnectomist_version = ConnectomistWrapper._connectomist_version_check(\n    connectomist_config)\nruntime = dict([(name, locals()[name])\n               for name in (\"connectomist_config\", \"tool\", \"tool_version\",\n                            \"connectomist_version\", \"timestamp\")])\nif args.verbose > 0:\n    print(\"[info] Start Connectomist DTI fit...\")\n    print(\"[info] Directory: {0}.\".format(args.outdir))\n    print(\"[info] Subject: {0}.\".format(args.subjectid))\n    print(\"[info] Preproc dir: {0}.\".format(args.preprocdir))\noutdir = args.outdir\nsubjectid = args.subjectid\ndtifitdir = args.dtifitdir\nif dtifitdir is None:\n    if outdir is None:\n        raise ValueError(\"Trying to generate output directory. You need to \"\n                         \"specify the -o, --outdir command line option.\")\n    dtifitdir = os.path.join(outdir, subjectid, \"dtifit\")\n    if args.verbose > 0:\n        print(\"[info] Generated dtifit dir: {0}.\".format(dtifitdir))\npreprocdir = args.preprocdir\nmorphologistdir = args.morphologistdir\nif preprocdir is None:\n    preprocdir = os.path.join(args.outdir, subjectid, \"preproc\")\n    if args.verbose > 0:\n        print(\"[info] Generated preproc dir: {0}.\".format(preprocdir))\nif not os.path.isdir(dtifitdir):\n    os.makedirs(dtifitdir)\nelif args.erase and os.path.isdir(dtifitdir):\n    shutil.rmtree(dtifitdir)\n    os.mkdir(dtifitdir)\nparams = locals()\ninputs = dict([(name, params[name])\n               for name in (\"outdir\", \"subjectid\", \"preprocdir\",\n                            \"morphologistdir\", \"dtifitdir\")])\noutputs = None"
      ], 
      "outputs": [], 
      "metadata": {
        "collapsed": false
      }
    }, 
    {
      "source": [
        "Connectomist tractography: DTI fit only\n\n"
      ], 
      "cell_type": "markdown", 
      "metadata": {}
    }, 
    {
      "execution_count": null, 
      "cell_type": "code", 
      "source": [
        "scalars, _, _ = complete_tractography(\n    dtifitdir,\n    preprocdir,\n    morphologistdir,\n    subjectid,\n    model=\"dti\",\n    rgbscale=1.0,\n    model_only=True,\n    path_connectomist=connectomist_config)"
      ], 
      "outputs": [], 
      "metadata": {
        "collapsed": false
      }
    }, 
    {
      "source": [
        "Update the outputs and save them and the inputs in a 'logs' directory.\n\n"
      ], 
      "cell_type": "markdown", 
      "metadata": {}
    }, 
    {
      "execution_count": null, 
      "cell_type": "code", 
      "source": [
        "logdir = os.path.join(dtifitdir, \"logs\")\nif not os.path.isdir(logdir):\n    os.mkdir(logdir)\nparams = locals()\noutputs = dict([(name, params[name]) for name in (\"scalars\", )])\nfor name, final_struct in [(\"inputs\", inputs), (\"outputs\", outputs),\n                           (\"runtime\", runtime)]:\n    log_file = os.path.join(logdir, \"{0}.json\".format(name))\n    with open(log_file, \"wt\") as open_file:\n        json.dump(final_struct, open_file, sort_keys=True, check_circular=True,\n                  indent=4)\nif args.verbose > 1:\n    print(\"[final]\")\n    pprint(outputs)"
      ], 
      "outputs": [], 
      "metadata": {
        "collapsed": false
      }
    }
  ], 
  "metadata": {
    "kernelspec": {
      "display_name": "Python 2", 
      "name": "python2", 
      "language": "python"
    }, 
    "language_info": {
      "mimetype": "text/x-python", 
      "nbconvert_exporter": "python", 
      "name": "python", 
      "file_extension": ".py", 
      "version": "2.7.12", 
      "pygments_lexer": "ipython2", 
      "codemirror_mode": {
        "version": 2, 
        "name": "ipython"
      }
    }
  }
}